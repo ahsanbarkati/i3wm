{
 "cells": [
  {
   "cell_type": "code",
   "execution_count": 1,
   "metadata": {},
   "outputs": [],
   "source": [
    "import os, glob\n",
    "import cv2\n"
   ]
  },
  {
   "cell_type": "code",
   "execution_count": 2,
   "metadata": {},
   "outputs": [],
   "source": [
    "\n",
    "ulpath = \"abhi_color/\"\n",
    "c=0\n",
    "for infile in glob.glob( os.path.join(ulpath, \"*.jpg\") ):\n",
    "    im = cv2.imread(infile)\n",
    "    resized_image = cv2.resize(im, (50, 50))\n",
    "    gray_image = cv2.cvtColor(resized_image, cv2.COLOR_BGR2GRAY)\n",
    "    cv2.imwrite('abhi/'+str(c)+'.jpg',gray_image)\n",
    "    c=c+1\n",
    "    "
   ]
  },
  {
   "cell_type": "code",
   "execution_count": 5,
   "metadata": {},
   "outputs": [],
   "source": [
    "import numpy as np\n",
    "import pandas\n",
    "from keras.utils import np_utils\n",
    "from keras.utils import to_categorical\n",
    "from keras.layers import Conv2D\n",
    "from keras.layers import MaxPooling2D\n",
    "from keras.layers import Flatten\n",
    "\n",
    "from keras.datasets import cifar10\n",
    "import keras\n",
    "from PIL import Image\n",
    "\n",
    "from keras.models import Sequential\n",
    "from keras.layers import Dense\n",
    "from keras.layers import Dropout\n",
    "from keras.constraints import maxnorm\n",
    "from keras import regularizers"
   ]
  },
  {
   "cell_type": "code",
   "execution_count": null,
   "metadata": {},
   "outputs": [],
   "source": []
  },
  {
   "cell_type": "code",
   "execution_count": 7,
   "metadata": {},
   "outputs": [],
   "source": [
    "X=[]\n",
    "Y=np.zeros(52,dtype='int32')\n",
    "i=0\n",
    "for infile in glob.glob( os.path.join('shubh/', \"*.jpg\") ):\n",
    "    im = cv2.imread(infile)\n",
    "    #gray_image = cv2.cvtColor(im, cv2.COLOR_BGR2GRAY)\n",
    "    x=np.array(im)\n",
    "    X.append(list(x))\n",
    "    Y[i]=int(0)   \n",
    "    i=i+1\n",
    "for infile in glob.glob( os.path.join('abhi/', \"*.jpg\") ):\n",
    "    im = cv2.imread(infile)\n",
    "    #gray_image = cv2.cvtColor(im, cv2.COLOR_BGR2GRAY)\n",
    "    x=np.array(im)\n",
    "    X.append(list(x))\n",
    "    Y[i]=int(1)\n",
    "    i=i+1"
   ]
  },
  {
   "cell_type": "code",
   "execution_count": 9,
   "metadata": {},
   "outputs": [
    {
     "name": "stdout",
     "output_type": "stream",
     "text": [
      "(0,)\n"
     ]
    }
   ],
   "source": [
    "X=np.array(X)\n",
    "print(X.shape)\n",
    "type(Y[0])\n",
    "for i in range(52):\n",
    "    if(Y[i]==1):\n",
    "        Y[i]=0.999"
   ]
  },
  {
   "cell_type": "code",
   "execution_count": null,
   "metadata": {},
   "outputs": [
    {
     "name": "stdout",
     "output_type": "stream",
     "text": [
      "Epoch 1/20\n"
     ]
    }
   ],
   "source": [
    "model = Sequential()\n",
    "model.add(Conv2D(32, kernel_size=(20, 20), strides=(1, 1),\n",
    "                 activation='relu',\n",
    "                 input_shape=[200,200,3]))\n",
    "model.add(MaxPooling2D(pool_size=(10, 10), strides=(2, 2)))\n",
    "model.add(Flatten())\n",
    "model.add(Dense(100, activation='relu'))\n",
    "model.add(Dense(50, activation='relu'))\n",
    "model.add(Dense(1, activation='relu'))\n",
    "model.compile(loss=keras.losses.mean_squared_logarithmic_error,\n",
    "              optimizer=keras.optimizers.SGD(lr=0.01),\n",
    "              metrics=['accuracy'])\n",
    "model.fit(X,Y,epochs=20)"
   ]
  },
  {
   "cell_type": "code",
   "execution_count": 7,
   "metadata": {},
   "outputs": [
    {
     "data": {
      "text/plain": [
       "True"
      ]
     },
     "execution_count": 7,
     "metadata": {},
     "output_type": "execute_result"
    }
   ],
   "source": [
    "im=cv2.imread('predict.jpg')\n",
    "x=[]\n",
    "x.append(np.array(im))\n",
    "resized_image = cv2.resize(im, (50, 50))\n",
    "gray_image = cv2.cvtColor(resized_image, cv2.COLOR_BGR2GRAY)\n",
    "cv2.imwrite('predict.jpg',gray_image)"
   ]
  },
  {
   "cell_type": "code",
   "execution_count": null,
   "metadata": {},
   "outputs": [],
   "source": []
  }
 ],
 "metadata": {
  "kernelspec": {
   "display_name": "Python 3",
   "language": "python",
   "name": "python3"
  },
  "language_info": {
   "codemirror_mode": {
    "name": "ipython",
    "version": 3
   },
   "file_extension": ".py",
   "mimetype": "text/x-python",
   "name": "python",
   "nbconvert_exporter": "python",
   "pygments_lexer": "ipython3",
   "version": "3.6.4"
  }
 },
 "nbformat": 4,
 "nbformat_minor": 2
}
